{
 "cells": [
  {
   "cell_type": "markdown",
   "metadata": {
    "colab_type": "text",
    "id": "RkDjjoj2Ws04"
   },
   "source": [
    "<h2 style=\"text-align: center;\"><b>Задание</b></h2>"
   ]
  },
  {
   "cell_type": "markdown",
   "metadata": {
    "colab_type": "text",
    "id": "qpDM9WANWs04"
   },
   "source": [
    "Добейтесь как можно лучшего качества в соревновании!  \n",
    "\n",
    "Используйте знания, полученные на занятиях и те, которые вы найдёте в интернете. Если у вас получится, можете использовать и свёрточные нейросети, а не только полносвязные. Вам нужно как минимум побить baseline."
   ]
  },
  {
   "cell_type": "markdown",
   "metadata": {
    "colab_type": "text",
    "id": "pC5T2TFTWs05"
   },
   "source": [
    "*Рекомендация*: попробуйте поменять количество итераций, количество нейронов, количество слоёв, гиперпараметры сети (learning_rate, метод оптимизации вместо SGD можно взять другой)"
   ]
  },
  {
   "cell_type": "code",
   "execution_count": 1,
   "metadata": {
    "colab": {},
    "colab_type": "code",
    "id": "3ASlXpLtWsxi"
   },
   "outputs": [],
   "source": [
    "import pandas as pd\n",
    "import matplotlib.pyplot as plt\n",
    "import numpy as np\n",
    "\n",
    "import torch"
   ]
  },
  {
   "cell_type": "code",
   "execution_count": 2,
   "metadata": {
    "colab": {},
    "colab_type": "code",
    "id": "EW5PlYt_Wsxm"
   },
   "outputs": [],
   "source": [
    "TRAIN_PATH = './fashionmnist/fashion-mnist_train.csv'\n",
    "TEST_PATH = './fashionmnist/fashion-mnist_test.csv'"
   ]
  },
  {
   "cell_type": "code",
   "execution_count": 3,
   "metadata": {
    "colab": {},
    "colab_type": "code",
    "id": "R7gRnQkxWsxq"
   },
   "outputs": [],
   "source": [
    "train_df = pd.read_csv(TRAIN_PATH)\n",
    "test_df = pd.read_csv(TEST_PATH)"
   ]
  },
  {
   "cell_type": "code",
   "execution_count": 4,
   "metadata": {
    "scrolled": true
   },
   "outputs": [
    {
     "data": {
      "image/png": "[encoded data removed]",
      "text/plain": [
       "<Figure size 432x288 with 1 Axes>"
      ]
     },
     "metadata": {
      "needs_background": "light"
     },
     "output_type": "display_data"
    }
   ],
   "source": [
    "shirts = train_df[train_df['label'] == 6]\n",
    "plt.imshow(shirts.values[14][1:].reshape(28, 28), cmap='gray');"
   ]
  },
  {
   "cell_type": "code",
   "execution_count": 5,
   "metadata": {},
   "outputs": [
    {
     "data": {
      "image/png": "[encoded data removed]",
      "text/plain": [
       "<Figure size 432x288 with 1 Axes>"
      ]
     },
     "metadata": {
      "needs_background": "light"
     },
     "output_type": "display_data"
    }
   ],
   "source": [
    "tops = train_df[train_df['label'] == 0]\n",
    "plt.imshow(tops.values[10][1:].reshape(28, 28), cmap='gray');"
   ]
  },
  {
   "cell_type": "code",
   "execution_count": 6,
   "metadata": {},
   "outputs": [
    {
     "data": {
      "image/png": "[encoded data removed]",
      "text/plain": [
       "<Figure size 432x288 with 1 Axes>"
      ]
     },
     "metadata": {
      "needs_background": "light"
     },
     "output_type": "display_data"
    }
   ],
   "source": [
    "pullovers = train_df[train_df['label'] == 2]\n",
    "plt.imshow(pullovers.values[10][1:].reshape(28, 28), cmap='gray');"
   ]
  },
  {
   "cell_type": "code",
   "execution_count": 7,
   "metadata": {},
   "outputs": [
    {
     "data": {
      "image/png": "[encoded data removed]",
      "text/plain": [
       "<Figure size 432x288 with 1 Axes>"
      ]
     },
     "metadata": {
      "needs_background": "light"
     },
     "output_type": "display_data"
    }
   ],
   "source": [
    "coats = train_df[train_df['label'] == 4]\n",
    "plt.imshow(coats.values[10][1:].reshape(28, 28), cmap='gray');"
   ]
  },
  {
   "cell_type": "code",
   "execution_count": 18,
   "metadata": {},
   "outputs": [],
   "source": [
    "X_train = train_df.values[:, 1:]\n",
    "y_train = train_df.values[:, 0]\n",
    "\n",
    "X_test = test_df.values  # [:, 1:]  # удаляем столбец 'label'"
   ]
  },
  {
   "cell_type": "code",
   "execution_count": 19,
   "metadata": {
    "colab": {},
    "colab_type": "code",
    "id": "XMrbvXGsWsz1"
   },
   "outputs": [],
   "source": [
    "X_train_tensor = torch.FloatTensor(X_train)\n",
    "y_train_tensor = torch.LongTensor(y_train.astype(np.int64))"
   ]
  },
  {
   "cell_type": "code",
   "execution_count": 20,
   "metadata": {
    "colab": {},
    "colab_type": "code",
    "id": "Ev5LShUSWs06"
   },
   "outputs": [],
   "source": [
    "D_in, H, D_out = 784, 200, 10\n",
    "\n",
    "# определим нейросеть:\n",
    "net = torch.nn.Sequential(\n",
    "    torch.nn.Linear(D_in, H),\n",
    "    torch.nn.LeakyReLU(),\n",
    "    torch.nn.Linear(H, H),\n",
    "    torch.nn.LeakyReLU(),\n",
    "    torch.nn.Linear(H, D_out),\n",
    "    #torch.nn.Softmax()\n",
    "    torch.nn.ELU()\n",
    ")"
   ]
  },
  {
   "cell_type": "code",
   "execution_count": 21,
   "metadata": {
    "colab": {},
    "colab_type": "code",
    "id": "yLq3bipeWs0O"
   },
   "outputs": [],
   "source": [
    "def generate_batches(X, y, batch_size=64):\n",
    "    for i in range(0, X.shape[0], batch_size):\n",
    "        X_batch, y_batch = X[i:i+batch_size], y[i:i+batch_size]\n",
    "        yield X_batch, y_batch"
   ]
  },
  {
   "cell_type": "code",
   "execution_count": 22,
   "metadata": {
    "colab": {},
    "colab_type": "code",
    "id": "P8W0HbJjWs0-",
    "scrolled": true
   },
   "outputs": [
    {
     "name": "stderr",
     "output_type": "stream",
     "text": [
      "C:\\Users\\yushanov\\Anaconda3\\lib\\site-packages\\torch\\nn\\_reduction.py:49: UserWarning: size_average and reduce args will be deprecated, please use reduction='sum' instead.\n",
      "  warnings.warn(warning.format(ret))\n"
     ]
    },
    {
     "name": "stdout",
     "output_type": "stream",
     "text": [
      "[0, 100] current loss: 708.8970080566406\n",
      "[1, 100] current loss: 554.1288986206055\n",
      "[2, 100] current loss: 442.6788348388672\n",
      "[3, 100] current loss: 311.3433599853516\n",
      "[4, 100] current loss: 295.35279312133787\n",
      "[5, 100] current loss: 285.4838264465332\n",
      "[6, 100] current loss: 278.93015396118165\n",
      "[7, 100] current loss: 273.4941995239258\n",
      "[8, 100] current loss: 268.76436264038085\n",
      "[9, 100] current loss: 264.5602394104004\n",
      "[10, 100] current loss: 261.0401202392578\n",
      "[11, 100] current loss: 257.3403570556641\n",
      "[12, 100] current loss: 254.1128028869629\n",
      "[13, 100] current loss: 238.57097534179687\n",
      "[14, 100] current loss: 142.2894864654541\n",
      "[15, 100] current loss: 120.60542121887207\n",
      "[16, 100] current loss: 109.26393661499023\n",
      "[17, 100] current loss: 101.93383850097656\n",
      "[18, 100] current loss: 96.35250610351562\n",
      "[19, 100] current loss: 91.95931205749511\n",
      "[20, 100] current loss: 86.76459140777588\n",
      "[21, 100] current loss: 83.41063755035401\n",
      "[22, 100] current loss: 80.07852378845215\n",
      "[23, 100] current loss: 76.82433692932129\n",
      "[24, 100] current loss: 74.02159927368164\n",
      "[25, 100] current loss: 71.69626983642578\n",
      "[26, 100] current loss: 69.13203022003174\n",
      "[27, 100] current loss: 66.80994960784912\n",
      "[28, 100] current loss: 64.68324157714844\n",
      "[29, 100] current loss: 63.082471466064455\n",
      "[30, 100] current loss: 62.38847831726074\n",
      "[31, 100] current loss: 60.7334241104126\n",
      "[32, 100] current loss: 60.317397613525394\n",
      "[33, 100] current loss: 58.760446090698245\n",
      "[34, 100] current loss: 56.026414184570314\n",
      "[35, 100] current loss: 53.89155502319336\n",
      "[36, 100] current loss: 51.36805145263672\n",
      "[37, 100] current loss: 50.69201930999756\n",
      "[38, 100] current loss: 48.66141750335694\n",
      "[39, 100] current loss: 48.04973978042602\n",
      "[40, 100] current loss: 47.17020709991455\n",
      "[41, 100] current loss: 45.55489446640015\n",
      "[42, 100] current loss: 43.993997497558595\n",
      "[43, 100] current loss: 44.605504531860355\n",
      "[44, 100] current loss: 43.63906658172608\n",
      "[45, 100] current loss: 44.25024671554566\n",
      "[46, 100] current loss: 45.22509819030762\n",
      "[47, 100] current loss: 43.88697210311889\n",
      "[48, 100] current loss: 43.21249370574951\n",
      "[49, 100] current loss: 43.9900651550293\n",
      "[50, 100] current loss: 43.17677686691284\n",
      "[51, 100] current loss: 42.33055694580078\n",
      "[52, 100] current loss: 41.105141696929934\n",
      "[53, 100] current loss: 39.47419933319092\n",
      "[54, 100] current loss: 37.95490993499756\n",
      "[55, 100] current loss: 36.528560657501224\n",
      "[56, 100] current loss: 35.36946889877319\n",
      "[57, 100] current loss: 33.65289052963257\n",
      "[58, 100] current loss: 32.415256881713866\n",
      "[59, 100] current loss: 31.217009868621826\n",
      "[60, 100] current loss: 30.262920846939085\n",
      "[61, 100] current loss: 30.094050607681275\n",
      "[62, 100] current loss: 30.071445083618165\n",
      "[63, 100] current loss: 29.814690704345704\n",
      "[64, 100] current loss: 30.32902898788452\n",
      "[65, 100] current loss: 29.41414228439331\n",
      "[66, 100] current loss: 29.421075763702394\n",
      "[67, 100] current loss: 30.637307977676393\n",
      "[68, 100] current loss: 31.526323003768923\n",
      "[69, 100] current loss: 30.711395139694215\n",
      "[70, 100] current loss: 29.182216796875\n",
      "[71, 100] current loss: 28.560162076950075\n",
      "[72, 100] current loss: 26.67827431678772\n",
      "[73, 100] current loss: 26.93181622505188\n",
      "[74, 100] current loss: 26.452527465820314\n",
      "[75, 100] current loss: 25.57030517578125\n",
      "[76, 100] current loss: 25.60309983253479\n",
      "[77, 100] current loss: 25.64389024734497\n",
      "[78, 100] current loss: 24.03497760772705\n",
      "[79, 100] current loss: 22.923935499191284\n",
      "[80, 100] current loss: 22.94964961051941\n",
      "[81, 100] current loss: 21.523261375427246\n",
      "[82, 100] current loss: 20.68450035095215\n",
      "[83, 100] current loss: 20.23973536491394\n",
      "[84, 100] current loss: 19.753576974868775\n",
      "[85, 100] current loss: 20.008821067810057\n",
      "[86, 100] current loss: 20.29500162124634\n",
      "[87, 100] current loss: 20.395941414833068\n",
      "[88, 100] current loss: 20.47628436088562\n",
      "[89, 100] current loss: 20.573025465011597\n",
      "[90, 100] current loss: 19.93636727333069\n",
      "[91, 100] current loss: 20.679216957092287\n",
      "[92, 100] current loss: 19.541575965881346\n",
      "[93, 100] current loss: 19.299339385032653\n",
      "[94, 100] current loss: 17.701918096542357\n",
      "[95, 100] current loss: 16.44962106704712\n",
      "[96, 100] current loss: 16.859809851646425\n",
      "[97, 100] current loss: 17.139304456710814\n",
      "[98, 100] current loss: 16.679898319244383\n",
      "[99, 100] current loss: 17.64243588447571\n",
      "[100, 100] current loss: 17.089154744148253\n",
      "[101, 100] current loss: 17.38033085346222\n",
      "[102, 100] current loss: 16.230362997055053\n",
      "[103, 100] current loss: 16.159361481666565\n",
      "[104, 100] current loss: 15.61848744392395\n",
      "[105, 100] current loss: 14.849154171943665\n",
      "[106, 100] current loss: 13.97926692008972\n",
      "[107, 100] current loss: 14.204969511032104\n",
      "[108, 100] current loss: 14.300850749015808\n",
      "[109, 100] current loss: 14.48761688709259\n",
      "[110, 100] current loss: 14.3535666513443\n",
      "[111, 100] current loss: 15.578010115623474\n",
      "[112, 100] current loss: 12.596153106689453\n",
      "[113, 100] current loss: 14.857203035354614\n",
      "[114, 100] current loss: 13.282074978351593\n",
      "[115, 100] current loss: 12.495388011932373\n",
      "[116, 100] current loss: 12.69413155078888\n",
      "[117, 100] current loss: 12.063936743736267\n",
      "[118, 100] current loss: 11.83231168270111\n",
      "[119, 100] current loss: 11.416170959472657\n",
      "[120, 100] current loss: 11.775783486366272\n",
      "[121, 100] current loss: 11.312480096817017\n",
      "[122, 100] current loss: 10.387801713943482\n",
      "[123, 100] current loss: 11.451930270195007\n",
      "[124, 100] current loss: 11.693278532028199\n",
      "[125, 100] current loss: 11.599940266609192\n",
      "[126, 100] current loss: 11.972007169723511\n",
      "[127, 100] current loss: 12.13326910495758\n",
      "[128, 100] current loss: 12.059977188110352\n",
      "[129, 100] current loss: 11.575886464118957\n",
      "[130, 100] current loss: 13.708478512763977\n",
      "[131, 100] current loss: 11.422679538726806\n",
      "[132, 100] current loss: 12.505707657337188\n",
      "[133, 100] current loss: 12.005582551956177\n",
      "[134, 100] current loss: 11.73743971824646\n",
      "[135, 100] current loss: 11.794372305870056\n",
      "[136, 100] current loss: 10.927701506614685\n",
      "[137, 100] current loss: 10.62970248222351\n",
      "[138, 100] current loss: 10.36285722732544\n",
      "[139, 100] current loss: 8.737181677818299\n",
      "[140, 100] current loss: 9.89614723443985\n",
      "[141, 100] current loss: 9.826558432579041\n",
      "[142, 100] current loss: 8.666902794837952\n",
      "[143, 100] current loss: 8.692215430736542\n",
      "[144, 100] current loss: 9.311637711524963\n",
      "[145, 100] current loss: 8.265324099063873\n",
      "[146, 100] current loss: 8.523608162403107\n",
      "[147, 100] current loss: 9.54176507949829\n",
      "[148, 100] current loss: 10.02936683177948\n",
      "[149, 100] current loss: 10.140921077728272\n",
      "[150, 100] current loss: 9.005368785858154\n",
      "[151, 100] current loss: 9.502883715629578\n",
      "[152, 100] current loss: 9.39754395723343\n",
      "[153, 100] current loss: 8.053942954540252\n",
      "[154, 100] current loss: 9.21668961763382\n",
      "[155, 100] current loss: 8.182189044952393\n",
      "[156, 100] current loss: 7.822058186531067\n",
      "[157, 100] current loss: 8.32846923828125\n",
      "[158, 100] current loss: 8.03982849597931\n",
      "[159, 100] current loss: 9.756888296604156\n",
      "[160, 100] current loss: 8.613090534210205\n",
      "[161, 100] current loss: 10.910321297645568\n",
      "[162, 100] current loss: 8.12603919506073\n",
      "[163, 100] current loss: 8.696844401359558\n",
      "[164, 100] current loss: 8.76931938648224\n",
      "[165, 100] current loss: 9.260988488197327\n",
      "[166, 100] current loss: 11.56249213218689\n",
      "[167, 100] current loss: 10.28448507785797\n",
      "[168, 100] current loss: 8.668541259765625\n",
      "[169, 100] current loss: 8.651546862125397\n",
      "[170, 100] current loss: 8.53201536655426\n",
      "[171, 100] current loss: 10.132850017547607\n",
      "[172, 100] current loss: 8.619166312217713\n",
      "[173, 100] current loss: 9.653397912979125\n",
      "[174, 100] current loss: 8.624652154445648\n",
      "[175, 100] current loss: 8.021277649402618\n",
      "[176, 100] current loss: 7.444936270713806\n",
      "[177, 100] current loss: 7.3382359790802\n",
      "[178, 100] current loss: 7.466276097297668\n",
      "[179, 100] current loss: 7.176657774448395\n",
      "[180, 100] current loss: 7.911232604980468\n",
      "[181, 100] current loss: 7.738483383655548\n",
      "[182, 100] current loss: 7.642605249881744\n",
      "[183, 100] current loss: 6.864403002262115\n",
      "[184, 100] current loss: 6.549691643714905\n",
      "[185, 100] current loss: 7.333905620574951\n",
      "[186, 100] current loss: 6.252088005542755\n",
      "[187, 100] current loss: 5.512073030471802\n",
      "[188, 100] current loss: 6.908731398582458\n",
      "[189, 100] current loss: 6.627098381519318\n",
      "[190, 100] current loss: 7.010642352104187\n",
      "[191, 100] current loss: 6.86023485660553\n"
     ]
    },
    {
     "name": "stdout",
     "output_type": "stream",
     "text": [
      "[192, 100] current loss: 6.798054850101471\n",
      "[193, 100] current loss: 5.310201017856598\n",
      "[194, 100] current loss: 6.985716345310212\n",
      "[195, 100] current loss: 6.932019517421723\n",
      "[196, 100] current loss: 6.186879305839539\n",
      "[197, 100] current loss: 5.907659313678741\n",
      "[198, 100] current loss: 6.819088933467865\n",
      "[199, 100] current loss: 6.859517545700073\n"
     ]
    }
   ],
   "source": [
    "BATCH_SIZE = 392\n",
    "NUM_EPOCHS = 200\n",
    "\n",
    "loss_fn = torch.nn.CrossEntropyLoss(size_average=False)\n",
    "\n",
    "learning_rate = 1e-4\n",
    "optimizer = torch.optim.Adam(net.parameters(), lr=learning_rate)\n",
    "\n",
    "for epoch_num  in range(NUM_EPOCHS):\n",
    "    iter_num = 0\n",
    "    running_loss = 0.0\n",
    "    for X_batch, y_batch in generate_batches(X_train_tensor, y_train_tensor, BATCH_SIZE):\n",
    "        y_pred = net(X_batch)\n",
    "        loss = loss_fn(y_pred, y_batch)\n",
    "        running_loss += loss.item()\n",
    "            \n",
    "        if iter_num % 100 == 99:\n",
    "            print('[{}, {}] current loss: {}'.format(epoch_num, iter_num + 1, running_loss / 100))\n",
    "            running_loss = 0.0\n",
    "            \n",
    "        optimizer.zero_grad()\n",
    "        loss.backward()\n",
    "        optimizer.step()\n",
    "        iter_num += 1"
   ]
  },
  {
   "cell_type": "code",
   "execution_count": 23,
   "metadata": {
    "colab": {},
    "colab_type": "code",
    "id": "zWNQz-SbWs1A"
   },
   "outputs": [
    {
     "name": "stdout",
     "output_type": "stream",
     "text": [
      "Accuracy of T-shirt/top : 95 %\n",
      "Accuracy of Trouser : 99 %\n",
      "Accuracy of Pullover : 97 %\n",
      "Accuracy of Dress : 99 %\n",
      "Accuracy of  Coat : 95 %\n",
      "Accuracy of Sandal : 100 %\n",
      "Accuracy of Shirt : 96 %\n",
      "Accuracy of Sneaker : 99 %\n",
      "Accuracy of   Bag : 99 %\n",
      "Accuracy of Ankle boot : 99 %\n"
     ]
    }
   ],
   "source": [
    "class_correct = list(0. for i in range(10))\n",
    "class_total = list(0. for i in range(10))\n",
    "\n",
    "classes = ['T-shirt/top', 'Trouser', 'Pullover', 'Dress', 'Coat', \n",
    "           'Sandal', 'Shirt', 'Sneaker','Bag', 'Ankle boot']\n",
    "\n",
    "with torch.no_grad():\n",
    "    for X_batch, y_batch in generate_batches(X_train_tensor, y_train_tensor, BATCH_SIZE):\n",
    "        y_pred = net(X_batch)\n",
    "        _, predicted = torch.max(y_pred, 1)\n",
    "        c = (predicted == y_batch).squeeze()\n",
    "        for i in range(len(y_pred)):\n",
    "            label = y_batch[i]\n",
    "            class_correct[label] += c[i].item()\n",
    "            class_total[label] += 1\n",
    "\n",
    "\n",
    "for i in range(10):\n",
    "    print('Accuracy of %5s : %2d %%' % (\n",
    "        classes[i], 100 * class_correct[i] / class_total[i]))"
   ]
  },
  {
   "cell_type": "code",
   "execution_count": 24,
   "metadata": {},
   "outputs": [],
   "source": [
    "y_test_pred = net(torch.FloatTensor(X_test))"
   ]
  },
  {
   "cell_type": "code",
   "execution_count": 25,
   "metadata": {},
   "outputs": [],
   "source": [
    "_, predicted = torch.max(y_test_pred, 1)\n",
    "answer_df = pd.DataFrame(data=predicted.numpy(), columns=['Category'])\n",
    "answer_df['Id'] = answer_df.index\n",
    "answer_df.to_csv('./newline.csv', index=False)"
   ]
  },
  {
   "cell_type": "code",
   "execution_count": 26,
   "metadata": {},
   "outputs": [
    {
     "name": "stdout",
     "output_type": "stream",
     "text": [
      "H = 200\n",
      "BATCH_SIZE = 392\n",
      "NUM_EPOCHS = 200\n",
      "learning_rate = 0.0001\n",
      "loss_fn = CrossEntropyLoss()\n",
      "net.parameters = <bound method Module.parameters of Sequential(\n",
      "  (0): Linear(in_features=784, out_features=200, bias=True)\n",
      "  (1): LeakyReLU(negative_slope=0.01)\n",
      "  (2): Linear(in_features=200, out_features=200, bias=True)\n",
      "  (3): LeakyReLU(negative_slope=0.01)\n",
      "  (4): Linear(in_features=200, out_features=10, bias=True)\n",
      "  (5): ELU(alpha=1.0)\n",
      ")>\n"
     ]
    }
   ],
   "source": [
    "print('H = {}\\nBATCH_SIZE = {}\\nNUM_EPOCHS = {}\\nlearning_rate = {}\\nloss_fn = {}\\nnet.parameters = {}'.format(H, BATCH_SIZE, NUM_EPOCHS, learning_rate, loss_fn, net.parameters))"
   ]
  },
  {
   "cell_type": "code",
   "execution_count": null,
   "metadata": {},
   "outputs": [],
   "source": []
  }
 ],
 "metadata": {
  "colab": {
   "collapsed_sections": [],
   "name": "[homework]fashionmnist_kaggle.ipynb",
   "provenance": [],
   "version": "0.3.2"
  },
  "kernelspec": {
   "display_name": "Python 3",
   "language": "python",
   "name": "python3"
  },
  "language_info": {
   "codemirror_mode": {
    "name": "ipython",
    "version": 3
   },
   "file_extension": ".py",
   "mimetype": "text/x-python",
   "name": "python",
   "nbconvert_exporter": "python",
   "pygments_lexer": "ipython3",
   "version": "3.7.0"
  }
 },
 "nbformat": 4,
 "nbformat_minor": 1
}
