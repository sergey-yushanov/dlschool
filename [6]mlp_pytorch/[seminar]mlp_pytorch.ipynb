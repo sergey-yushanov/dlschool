{
 "cells": [
  {
   "cell_type": "markdown",
   "metadata": {
    "colab_type": "text",
    "id": "aaSoSTVpYJcu"
   },
   "source": [
    "<img src=\"https://s8.hostingkartinok.com/uploads/images/2018/08/308b49fcfbc619d629fe4604bceb67ac.jpg\" width=500,>\n",
    "<h3 style=\"text-align: center;\"><b>Физтех-Школа Прикладной математики и информатики (ФПМИ) МФТИ</b></h3>"
   ]
  },
  {
   "cell_type": "markdown",
   "metadata": {
    "colab_type": "text",
    "id": "GpZt9IYkYJcw"
   },
   "source": [
    "---"
   ]
  },
  {
   "cell_type": "markdown",
   "metadata": {
    "colab_type": "text",
    "id": "s4wplUzDYJcx"
   },
   "source": [
    "<h2 style=\"text-align: center;\"><b>Многослойная сеть на PyTorch</b></h3>"
   ]
  },
  {
   "cell_type": "markdown",
   "metadata": {
    "colab_type": "text",
    "id": "J2msuyHTYJcx"
   },
   "source": [
    "В этом ноутбке мы научимся писать свои нейросети на фреймворке PyTorch, конкретно - рассмотрим, как написать многослойную полносвязную сеть (Fully-Connected, FC), и сравним их качество на датасете картинок MNIST."
   ]
  },
  {
   "cell_type": "markdown",
   "metadata": {
    "colab_type": "text",
    "id": "9xJnMEZrYJcz"
   },
   "source": [
    "<h3 style=\"text-align: center;\"><b>Компоненты нейросети</b></h3>"
   ]
  },
  {
   "cell_type": "markdown",
   "metadata": {
    "colab_type": "text",
    "id": "InwacmvIYJc0"
   },
   "source": [
    "Здесь самое время напомнить о том, какие вещи играют принципиальную роль в построении любой ***нейронной сети*** (все их мы задаём *руками*, самостоятельно):  \n",
    "\n",
    "- непосредственно, сама **архитектура** нейросети (сюда входят типы функций активации у каждого нейрона);\n",
    "- начальная **инициализация** весов каждого слоя;\n",
    "- метод **оптимизации** нейросети (сюда ещё входит метод изменения `learning_rate`);\n",
    "- размер **батчей** (`batch_size`);\n",
    "- количество итераций обучения (`num_epochs`);\n",
    "- **функция потерь** (`loss`);  \n",
    "- тип **регуляризации** нейросети (для каждого слоя можно свой);  \n",
    "\n",
    "То, что связано с ***данными и задачей***:  \n",
    "- само **качество** выборки (непротиворечивость, чистота, корректность постановки задачи);  \n",
    "- **размер** выборки;  "
   ]
  },
  {
   "cell_type": "markdown",
   "metadata": {
    "colab_type": "text",
    "id": "tXujEOB0YJc1"
   },
   "source": [
    "<h3 style=\"text-align: center;\"><b>Многослойная нейронная сеть</b></h3>"
   ]
  },
  {
   "cell_type": "markdown",
   "metadata": {
    "colab_type": "text",
    "id": "mnxH-DajYJc3"
   },
   "source": [
    "Как можно понять из названия, многослойная нейросеть состоит из нескольких **слоёв**. Каждый слой состоит из **нейронов**. Ранее мы уже писали свой нейрон на NumPy, вот из таких нейронов и состоит ***MLP (Multi-Layer Perceptron)***. Ещё такую многослойную нейросеть, у которой каждый нейрон на предыдущем уровне соединён с нейроном на следующем уровне, называют ***Fully-Connected-сетью*** (или ***Dense-сетью***).  \n",
    "\n",
    "Расмотрим их устройство более подробно:"
   ]
  },
  {
   "cell_type": "markdown",
   "metadata": {
    "colab_type": "text",
    "id": "onjJUneMYJc5"
   },
   "source": [
    "* Вот так выглядит двухслойная нейросеть (первый слой - input layer - не считается, потому что это, по сути, не слой):"
   ]
  },
  {
   "cell_type": "markdown",
   "metadata": {
    "colab_type": "text",
    "id": "owRRulLzYJc6"
   },
   "source": [
    "<img src=\"http://cs231n.github.io/assets/nn1/neural_net.jpeg\" width=300, height=200>"
   ]
  },
  {
   "cell_type": "markdown",
   "metadata": {
    "colab_type": "text",
    "id": "tFNxGGBEYJc8"
   },
   "source": [
    "* Так выглядит трёхслойная нейросеть:"
   ]
  },
  {
   "cell_type": "markdown",
   "metadata": {
    "colab_type": "text",
    "id": "zRaKX35eYJc9"
   },
   "source": [
    "<img src=\"http://cs231n.github.io/assets/nn1/neural_net2.jpeg\" width=400>"
   ]
  },
  {
   "cell_type": "markdown",
   "metadata": {
    "colab_type": "text",
    "id": "6w1FTkO1YJc-"
   },
   "source": [
    ".. и так далее для большего случая слоёв."
   ]
  },
  {
   "cell_type": "markdown",
   "metadata": {
    "colab_type": "text",
    "id": "8iKV7m5YYJc_"
   },
   "source": [
    "**Обратите внимание:** связи есть у нейронов со слоя $L_{i-1}$  и нейронов $L_{i}$, но между нейронами в одном слое связей **нет**."
   ]
  },
  {
   "cell_type": "markdown",
   "metadata": {
    "colab_type": "text",
    "id": "URV9qWkfYJdA"
   },
   "source": [
    "**Входной слой** -- это данные (матрица $(n, m)$)."
   ]
  },
  {
   "cell_type": "markdown",
   "metadata": {
    "colab_type": "text",
    "id": "zK8tWuHHYJdB"
   },
   "source": [
    "Слои, которые не являются входными или выходными, называются **скрытыми слоями (hidden layers)**."
   ]
  },
  {
   "cell_type": "markdown",
   "metadata": {
    "colab_type": "text",
    "id": "fz9clUlCYJdC"
   },
   "source": [
    "При решении ***задачи регрессии*** на **выходном слое** обычно один нейрон, который возвращает предсказанные числа (для каждого объекта по числу).  \n",
    "\n",
    "В случае ***задачи классификации*** на **выходном слое** обычно один нейрон, если задача бинарной классификации, и $K$ нейронов, если задача $K$-класовой классификации."
   ]
  },
  {
   "cell_type": "markdown",
   "metadata": {
    "colab_type": "text",
    "id": "nJblXqY5YJdE"
   },
   "source": [
    "#### Forward pass в MLP"
   ]
  },
  {
   "cell_type": "markdown",
   "metadata": {
    "colab_type": "text",
    "id": "D87xoAl8YJdF"
   },
   "source": [
    "Каждый слой многослойной нейросети - это матрица весов, строки которой - это нейроны (одна строка - один нейрон), а столбцы - веса каждого нейрона (то есть одна строка - это веса одного нейрона)."
   ]
  },
  {
   "cell_type": "markdown",
   "metadata": {
    "colab_type": "text",
    "collapsed": true,
    "id": "RyXUqCfVYJdG"
   },
   "source": [
    "Допустим, мы решаем задачу $K$-классовой классификации (на последнем слое $K$ нейронов). Рассмотрим, как в таком случае выглядит `forward_pass` нейросети:"
   ]
  },
  {
   "cell_type": "markdown",
   "metadata": {
    "colab_type": "text",
    "id": "YO6gHbOjYJdH"
   },
   "source": [
    "* Вход: $$X =\n",
    "\\left(\n",
    "\\begin{matrix} \n",
    "x_{11} & ... & x_{1M} \\\\\n",
    "... & \\ddots  & ...\\\\\n",
    "x_{N1} & ... & x_{NM} \n",
    "\\end{matrix}\n",
    "\\right)\n",
    "$$\n",
    "\n",
    "-- матрица $(N, M)$"
   ]
  },
  {
   "cell_type": "markdown",
   "metadata": {
    "colab_type": "text",
    "collapsed": true,
    "id": "XdImZiQkYJdI"
   },
   "source": [
    "* Структура сети - много слоёв, в слоях много нейронов. Первый слой (после входного) выглядит так:"
   ]
  },
  {
   "cell_type": "markdown",
   "metadata": {
    "colab_type": "text",
    "id": "U2c2M4MJYJdJ"
   },
   "source": [
    "$$ W^1 =\n",
    "\\left(\n",
    "\\begin{matrix} \n",
    "w_{11} & ... & w_{1L_1} \\\\\n",
    "... & \\ddots  & ...\\\\\n",
    "w_{M1} & ... & w_{ML_1} \n",
    "\\end{matrix}\n",
    "\\right)\n",
    "$$\n",
    "\n",
    "-- матрица $(M, L_1)$"
   ]
  },
  {
   "cell_type": "markdown",
   "metadata": {
    "colab_type": "text",
    "id": "UUCdeLN0YJdK"
   },
   "source": [
    "То есть это в точности $L_1$ нейронов, каждый имеет свои собственные веса, их $M$ штук."
   ]
  },
  {
   "cell_type": "markdown",
   "metadata": {
    "colab_type": "text",
    "id": "ixHtlMwKYJdL"
   },
   "source": [
    "Мы помним, что нейрон - это линейное преобразование и потом нелинейная функция активации от этого преобразования. Однако в многослойных нейростеях часто отделяют `Linear` часть и `Activation`, то есть слоем считаем набор весов нейронов, а следующий слой всегда функция активации (у всех нейронов из слоя она одна и та же, обычно фреймворки не позволяют задавать конкретному нейрону в слое отличную от других нейронов в этом слое функцию активации, однако это легко сделать, объявив слой из одного нейрона)."
   ]
  },
  {
   "cell_type": "markdown",
   "metadata": {
    "colab_type": "text",
    "id": "AUt1NgTvYJdN"
   },
   "source": [
    "* Другие слои выглядит точно так же, как первый слой. Например, у второй слой будет такой:"
   ]
  },
  {
   "cell_type": "markdown",
   "metadata": {
    "colab_type": "text",
    "id": "IdtSTvTmYJdN"
   },
   "source": [
    "$$ W^2 =\n",
    "\\left(\n",
    "\\begin{matrix} \n",
    "w_{11} & ... & w_{1L_2} \\\\\n",
    "... & \\ddots  & ...\\\\\n",
    "w_{L_11} & ... & w_{L_1L_2} \n",
    "\\end{matrix}\n",
    "\\right)\n",
    "$$\n",
    "\n",
    "-- матрица $(L_1, L_2)$"
   ]
  },
  {
   "cell_type": "markdown",
   "metadata": {
    "colab_type": "text",
    "id": "R3nGnHoLYJdP"
   },
   "source": [
    "То есть это в точности $L_2$ нейронов, каждый имеет свои собственные веса, их $L_1$ штук."
   ]
  },
  {
   "cell_type": "markdown",
   "metadata": {
    "colab_type": "text",
    "id": "bQhOAQjSYJdR"
   },
   "source": [
    "* Выходной слой:  \n",
    "\n",
    "Пусть в нейросети до выходного слоя идут $t$ слоёв. Тогда выходной слой имеет форму:"
   ]
  },
  {
   "cell_type": "markdown",
   "metadata": {
    "colab_type": "text",
    "id": "fWvqm-K0YJdT"
   },
   "source": [
    "$$ W^{out} =\n",
    "\\left(\n",
    "\\begin{matrix} \n",
    "w_{11} & ... & w_{1K} \\\\\n",
    "... & \\ddots  & ...\\\\\n",
    "w_{L_t1} & ... & w_{L_tK} \n",
    "\\end{matrix}\n",
    "\\right)\n",
    "$$\n",
    "\n",
    "-- матрица $(L_t, K)$, где $L_t$ - количество нейронов в $t$-ом слое, а $K$ -- количество классов."
   ]
  },
  {
   "cell_type": "markdown",
   "metadata": {
    "colab_type": "text",
    "id": "2z5tO89NYJdU"
   },
   "source": [
    "В итоге ***для `forward_pass` нам нужно просто последовтельно перемножить матрицы друг за другом, применяя после каждого умножения соответсвующую функцию активации***."
   ]
  },
  {
   "cell_type": "markdown",
   "metadata": {
    "colab_type": "text",
    "id": "IZT4GgsCYJdV"
   },
   "source": [
    "*Примечание*: можно думать об умножении на очередную матрицу весов как на переход в **новое признаковое пространство**. Действительно, когда подаём матрицу $X$ и умножаем на матрицу первого слоя, мы получаем матрицу размера $(N, L_1)$, то есть как будто $L_1$ \"новых\" признаков (построенных как линейная комбинация старых до применения функции активации, и уже как нелинейная комбинация после активации)."
   ]
  },
  {
   "cell_type": "markdown",
   "metadata": {
    "colab_type": "text",
    "id": "4RhJ4fsHYJdW"
   },
   "source": [
    "**Backward pass в MLP**"
   ]
  },
  {
   "cell_type": "markdown",
   "metadata": {
    "colab_type": "text",
    "id": "MYN043DbYJdX"
   },
   "source": [
    "Обучается с помощью метода \"Error Backpropagation\" - [\"Обратное распространение ошибки\"](https://ru.wikipedia.org/wiki/%D0%9C%D0%B5%D1%82%D0%BE%D0%B4_%D0%BE%D0%B1%D1%80%D0%B0%D1%82%D0%BD%D0%BE%D0%B3%D0%BE_%D1%80%D0%B0%D1%81%D0%BF%D1%80%D0%BE%D1%81%D1%82%D1%80%D0%B0%D0%BD%D0%B5%D0%BD%D0%B8%D1%8F_%D0%BE%D1%88%D0%B8%D0%B1%D0%BA%D0%B8), принцип распространения очень похож на то, как мы обучали один нейрон - это градиентный спуск, но по \"всей нейросети\" сразу.  "
   ]
  },
  {
   "cell_type": "markdown",
   "metadata": {
    "colab_type": "text",
    "collapsed": true,
    "id": "oK7Vi4bxYJdZ"
   },
   "source": [
    "Backpropagation работает корректно благодаря ***chain rule*** (=правилу взятия производной сложной функции):  \n",
    "\n",
    "Если $f(x) = f(g(x))$, то:  \n",
    "\n",
    "$$\\frac{\\partial{f}}{\\partial{x}} = \\frac{\\partial{f}}{\\partial{g}} \\frac{\\partial{g}}{\\partial{x}}$$"
   ]
  },
  {
   "cell_type": "markdown",
   "metadata": {
    "colab_type": "text",
    "collapsed": true,
    "id": "WKvMsaEBYJda"
   },
   "source": [
    "Более подробно про backpropagation можно прочитать здесь (на английском):  https://mattmazur.com/2015/03/17/a-step-by-step-backpropagation-example/"
   ]
  },
  {
   "cell_type": "markdown",
   "metadata": {
    "colab_type": "text",
    "id": "z5dyjPVNYJdc"
   },
   "source": [
    "<h3 style=\"text-align: center;\"><b>Многослойная нейросеть на PyTorch</b></h3>"
   ]
  },
  {
   "cell_type": "markdown",
   "metadata": {
    "colab_type": "text",
    "id": "T9ufk3ECYJde"
   },
   "source": [
    "Ешё раз напомним про основные компоненты нейросети:\n",
    "\n",
    "- непосредственно, сама **архитектура** нейросети (сюда входят типы функций активации у каждого нейрона);\n",
    "- начальная **инициализация** весов каждого слоя;\n",
    "- метод **оптимизации** нейросети (сюда ещё входит метод изменения `learning_rate`);\n",
    "- размер **батчей** (`batch_size`);\n",
    "- количетсво итераций обучения (`num_epochs`);\n",
    "- **функция потерь** (`loss`);  \n",
    "- тип **регуляризации** нейросети (для каждого слоя можно свой);  \n",
    "\n",
    "То, что связано с ***данными и задачей***:  \n",
    "- само **качество** выборки (непротиворечивость, чистота, корректность постановки задачи);  \n",
    "- **размер** выборки;  "
   ]
  },
  {
   "cell_type": "markdown",
   "metadata": {
    "colab_type": "text",
    "id": "9KrWarqTYJdf"
   },
   "source": [
    "Не будем медлить - бахнем 100 нейронов в двуслойную нейросеть (датасет - снова \"Игрушка дьявола\"):"
   ]
  },
  {
   "cell_type": "code",
   "execution_count": 1,
   "metadata": {
    "colab": {},
    "colab_type": "code",
    "id": "bLjkPg19YJdg"
   },
   "outputs": [],
   "source": [
    "import matplotlib.pyplot as plt\n",
    "import numpy as np\n",
    "\n",
    "import torch"
   ]
  },
  {
   "cell_type": "markdown",
   "metadata": {
    "colab_type": "text",
    "id": "iCDVRvQJYJdl"
   },
   "source": [
    "Генерация и отрисовка датасета:"
   ]
  },
  {
   "cell_type": "code",
   "execution_count": 8,
   "metadata": {
    "colab": {},
    "colab_type": "code",
    "id": "k0J27RcLYJdm"
   },
   "outputs": [],
   "source": [
    "# код для генерации взят из Стэнфордсокго курса:\n",
    "# http://cs231n.github.io/neural-networks-case-study/#linear\n",
    "\n",
    "N = 100\n",
    "D = 2\n",
    "K = 3\n",
    "X = np.zeros((N * K, D))\n",
    "y = np.zeros(N * K, dtype='uint8')\n",
    "\n",
    "for j in range(K):\n",
    "    ix = range(N * j,N * (j + 1))\n",
    "    r = np.linspace(0.0, 1, N)\n",
    "    t = np.linspace(j * 4, (j + 1) * 4,N) + np.random.randn(N) * 0.2 # theta\n",
    "    X[ix] = np.c_[r * np.sin(t), r * np.cos(t)]\n",
    "    y[ix] = j"
   ]
  },
  {
   "cell_type": "markdown",
   "metadata": {
    "colab_type": "text",
    "id": "X9FHhqX_YJdp"
   },
   "source": [
    "Не забываем оборачивать данные (без этого градиенты не посчитать):"
   ]
  },
  {
   "cell_type": "code",
   "execution_count": 9,
   "metadata": {
    "colab": {},
    "colab_type": "code",
    "id": "pQINaQqZYJdq"
   },
   "outputs": [],
   "source": [
    "X = torch.autograd.Variable(torch.FloatTensor(X))\n",
    "y = torch.autograd.Variable(torch.LongTensor(y.astype(np.int64)))"
   ]
  },
  {
   "cell_type": "code",
   "execution_count": 10,
   "metadata": {
    "colab": {},
    "colab_type": "code",
    "id": "Who9mS8oYJdu",
    "outputId": "1ec6e30a-2cd9-4bd6-d0e0-3b7c936d1b8a"
   },
   "outputs": [
    {
     "name": "stdout",
     "output_type": "stream",
     "text": [
      "torch.Size([300, 2]) torch.Size([300])\n"
     ]
    }
   ],
   "source": [
    "print(X.data.shape, y.data.shape)"
   ]
  },
  {
   "cell_type": "markdown",
   "metadata": {
    "colab_type": "text",
    "id": "I-9dFW5CYJd0"
   },
   "source": [
    "Сама ячейка с сеткой и обучением:"
   ]
  },
  {
   "cell_type": "code",
   "execution_count": 5,
   "metadata": {
    "colab": {},
    "colab_type": "code",
    "id": "kf-YapleYJd1",
    "outputId": "d71315ae-670a-48e3-bcf7-b425ebe198fe"
   },
   "outputs": [
    {
     "name": "stderr",
     "output_type": "stream",
     "text": [
      "C:\\Users\\yushanov\\Anaconda3\\lib\\site-packages\\torch\\nn\\_reduction.py:49: UserWarning: size_average and reduce args will be deprecated, please use reduction='sum' instead.\n",
      "  warnings.warn(warning.format(ret))\n"
     ]
    },
    {
     "name": "stdout",
     "output_type": "stream",
     "text": [
      "0 327.5737609863281\n",
      "1 325.3006896972656\n",
      "2 323.2279968261719\n",
      "3 321.3215026855469\n",
      "4 319.55340576171875\n",
      "5 317.9016418457031\n",
      "6 316.3479919433594\n",
      "7 314.87750244140625\n",
      "8 313.4779357910156\n",
      "9 312.1398620605469\n",
      "10 310.8550109863281\n",
      "11 309.6164855957031\n",
      "12 308.4188537597656\n",
      "13 307.25775146484375\n",
      "14 306.129150390625\n",
      "15 305.02996826171875\n",
      "16 303.9576721191406\n",
      "17 302.9097595214844\n",
      "18 301.8846435546875\n",
      "19 300.88043212890625\n",
      "20 299.8960876464844\n",
      "21 298.93017578125\n",
      "22 297.98193359375\n",
      "23 297.05035400390625\n",
      "24 296.13470458984375\n",
      "25 295.2342529296875\n",
      "26 294.34814453125\n",
      "27 293.4765625\n",
      "28 292.6185302734375\n",
      "29 291.77362060546875\n",
      "30 290.94183349609375\n",
      "31 290.1221008300781\n",
      "32 289.3147888183594\n",
      "33 288.5195007324219\n",
      "34 287.73565673828125\n",
      "35 286.9628601074219\n",
      "36 286.2012023925781\n",
      "37 285.4504089355469\n",
      "38 284.7099609375\n",
      "39 283.97991943359375\n",
      "40 283.25994873046875\n",
      "41 282.550048828125\n",
      "42 281.8497009277344\n",
      "43 281.1590881347656\n",
      "44 280.4777526855469\n",
      "45 279.8056945800781\n",
      "46 279.142578125\n",
      "47 278.4884338378906\n",
      "48 277.84271240234375\n",
      "49 277.2056884765625\n",
      "50 276.5772399902344\n",
      "51 275.9567565917969\n",
      "52 275.3447570800781\n",
      "53 274.74053955078125\n",
      "54 274.1442565917969\n",
      "55 273.55548095703125\n",
      "56 272.9747009277344\n",
      "57 272.40093994140625\n",
      "58 271.83465576171875\n",
      "59 271.2757263183594\n",
      "60 270.7236328125\n",
      "61 270.17864990234375\n",
      "62 269.640380859375\n",
      "63 269.10906982421875\n",
      "64 268.58404541015625\n",
      "65 268.0658264160156\n",
      "66 267.55401611328125\n",
      "67 267.04852294921875\n",
      "68 266.549072265625\n",
      "69 266.0559387207031\n",
      "70 265.5688171386719\n",
      "71 265.0876159667969\n",
      "72 264.61224365234375\n",
      "73 264.1426086425781\n",
      "74 263.6785888671875\n",
      "75 263.22021484375\n",
      "76 262.7672424316406\n",
      "77 262.31976318359375\n",
      "78 261.8777160644531\n",
      "79 261.44091796875\n",
      "80 261.0092468261719\n",
      "81 260.5826416015625\n",
      "82 260.16107177734375\n",
      "83 259.74444580078125\n",
      "84 259.33270263671875\n",
      "85 258.92578125\n",
      "86 258.5234375\n",
      "87 258.1257629394531\n",
      "88 257.7327575683594\n",
      "89 257.34423828125\n",
      "90 256.960205078125\n",
      "91 256.5803527832031\n",
      "92 256.2050476074219\n",
      "93 255.8338623046875\n",
      "94 255.4666748046875\n",
      "95 255.10385131835938\n",
      "96 254.7451934814453\n",
      "97 254.39039611816406\n",
      "98 254.03944396972656\n",
      "99 253.69252014160156\n",
      "100 253.349365234375\n",
      "101 253.01004028320312\n",
      "102 252.67442321777344\n",
      "103 252.34251403808594\n",
      "104 252.01429748535156\n",
      "105 251.6895294189453\n",
      "106 251.36831665039062\n",
      "107 251.05079650878906\n",
      "108 250.7366943359375\n",
      "109 250.4258270263672\n",
      "110 250.1184539794922\n",
      "111 249.81427001953125\n",
      "112 249.51318359375\n",
      "113 249.21559143066406\n",
      "114 248.92098999023438\n",
      "115 248.62928771972656\n",
      "116 248.3408203125\n",
      "117 248.05540466308594\n",
      "118 247.7729034423828\n",
      "119 247.4934539794922\n",
      "120 247.21685791015625\n",
      "121 246.94300842285156\n",
      "122 246.6721649169922\n",
      "123 246.40386962890625\n",
      "124 246.1385040283203\n",
      "125 245.8758544921875\n",
      "126 245.6156768798828\n",
      "127 245.35829162597656\n",
      "128 245.10345458984375\n",
      "129 244.85107421875\n",
      "130 244.6014862060547\n",
      "131 244.35423278808594\n",
      "132 244.10934448242188\n",
      "133 243.86695861816406\n",
      "134 243.62710571289062\n",
      "135 243.3894500732422\n",
      "136 243.1541290283203\n",
      "137 242.92120361328125\n",
      "138 242.69053649902344\n",
      "139 242.46231079101562\n",
      "140 242.23614501953125\n",
      "141 242.01219177246094\n",
      "142 241.79046630859375\n",
      "143 241.57083129882812\n",
      "144 241.35336303710938\n",
      "145 241.13800048828125\n",
      "146 240.92477416992188\n",
      "147 240.7135009765625\n",
      "148 240.5043487548828\n",
      "149 240.29722595214844\n",
      "150 240.09205627441406\n",
      "151 239.88888549804688\n",
      "152 239.68756103515625\n",
      "153 239.48825073242188\n",
      "154 239.2908172607422\n",
      "155 239.09494018554688\n",
      "156 238.9012908935547\n",
      "157 238.70924377441406\n",
      "158 238.5188446044922\n",
      "159 238.3304443359375\n",
      "160 238.14356994628906\n",
      "161 237.9586639404297\n",
      "162 237.77516174316406\n",
      "163 237.59341430664062\n",
      "164 237.4132080078125\n",
      "165 237.2346954345703\n",
      "166 237.05795288085938\n",
      "167 236.88272094726562\n",
      "168 236.70896911621094\n",
      "169 236.5368194580078\n",
      "170 236.36619567871094\n",
      "171 236.1970672607422\n",
      "172 236.02944946289062\n",
      "173 235.8635711669922\n",
      "174 235.69873046875\n",
      "175 235.53570556640625\n",
      "176 235.3739471435547\n",
      "177 235.2136993408203\n",
      "178 235.0547332763672\n",
      "179 234.89727783203125\n",
      "180 234.7411346435547\n",
      "181 234.58636474609375\n",
      "182 234.43309020996094\n",
      "183 234.28089904785156\n",
      "184 234.13011169433594\n",
      "185 233.9805145263672\n",
      "186 233.83242797851562\n",
      "187 233.68553161621094\n",
      "188 233.53990173339844\n",
      "189 233.3953094482422\n",
      "190 233.2521514892578\n",
      "191 233.11001586914062\n",
      "192 232.9691925048828\n",
      "193 232.82955932617188\n",
      "194 232.69090270996094\n",
      "195 232.55352783203125\n",
      "196 232.4173126220703\n",
      "197 232.28221130371094\n",
      "198 232.148193359375\n",
      "199 232.0150909423828\n",
      "200 231.88328552246094\n",
      "201 231.75228881835938\n",
      "202 231.62261962890625\n",
      "203 231.4939727783203\n",
      "204 231.36611938476562\n",
      "205 231.23974609375\n",
      "206 231.1138916015625\n",
      "207 230.9892120361328\n",
      "208 230.86566162109375\n",
      "209 230.74293518066406\n",
      "210 230.62130737304688\n",
      "211 230.5005645751953\n",
      "212 230.3807373046875\n",
      "213 230.26171875\n",
      "214 230.143798828125\n",
      "215 230.0265655517578\n",
      "216 229.91043090820312\n",
      "217 229.7951202392578\n",
      "218 229.68080139160156\n",
      "219 229.56723022460938\n",
      "220 229.45449829101562\n",
      "221 229.3428192138672\n",
      "222 229.23178100585938\n",
      "223 229.1216278076172\n",
      "224 229.01220703125\n",
      "225 228.90390014648438\n",
      "226 228.79615783691406\n",
      "227 228.68942260742188\n",
      "228 228.5832977294922\n",
      "229 228.47805786132812\n",
      "230 228.37351989746094\n",
      "231 228.26976013183594\n",
      "232 228.16673278808594\n",
      "233 228.06460571289062\n",
      "234 227.9630889892578\n",
      "235 227.8621826171875\n",
      "236 227.76210021972656\n",
      "237 227.662841796875\n",
      "238 227.56414794921875\n",
      "239 227.4662628173828\n",
      "240 227.3690185546875\n",
      "241 227.2723846435547\n",
      "242 227.17642211914062\n",
      "243 227.08111572265625\n",
      "244 226.9866943359375\n",
      "245 226.89266967773438\n",
      "246 226.79934692382812\n",
      "247 226.70663452148438\n",
      "248 226.61474609375\n",
      "249 226.5234375\n",
      "250 226.4326171875\n",
      "251 226.34249877929688\n",
      "252 226.25286865234375\n",
      "253 226.16392517089844\n",
      "254 226.07553100585938\n",
      "255 225.9877471923828\n",
      "256 225.9004364013672\n",
      "257 225.81382751464844\n",
      "258 225.72767639160156\n",
      "259 225.64205932617188\n",
      "260 225.55712890625\n",
      "261 225.47256469726562\n",
      "262 225.38870239257812\n",
      "263 225.30538940429688\n",
      "264 225.2225341796875\n",
      "265 225.14015197753906\n",
      "266 225.0583953857422\n",
      "267 224.9770050048828\n",
      "268 224.89627075195312\n",
      "269 224.81600952148438\n",
      "270 224.7362823486328\n",
      "271 224.65707397460938\n",
      "272 224.57814025878906\n",
      "273 224.4998779296875\n",
      "274 224.4219970703125\n",
      "275 224.34469604492188\n",
      "276 224.26759338378906\n",
      "277 224.19142150878906\n",
      "278 224.115478515625\n",
      "279 224.04006958007812\n",
      "280 223.96517944335938\n",
      "281 223.89056396484375\n",
      "282 223.8166046142578\n",
      "283 223.7430877685547\n",
      "284 223.66989135742188\n",
      "285 223.59722900390625\n",
      "286 223.52500915527344\n",
      "287 223.45318603515625\n",
      "288 223.38169860839844\n",
      "289 223.3105926513672\n",
      "290 223.2401123046875\n",
      "291 223.16989135742188\n",
      "292 223.10006713867188\n",
      "293 223.03045654296875\n",
      "294 222.96148681640625\n",
      "295 222.89271545410156\n",
      "296 222.82461547851562\n",
      "297 222.75674438476562\n",
      "298 222.68939208984375\n",
      "299 222.62232971191406\n",
      "300 222.55555725097656\n",
      "301 222.48924255371094\n",
      "302 222.42318725585938\n",
      "303 222.3574676513672\n",
      "304 222.2923583984375\n",
      "305 222.22735595703125\n",
      "306 222.16273498535156\n",
      "307 222.0984649658203\n",
      "308 222.03453063964844\n",
      "309 221.97097778320312\n",
      "310 221.90774536132812\n",
      "311 221.84498596191406\n",
      "312 221.78240966796875\n",
      "313 221.72039794921875\n",
      "314 221.65847778320312\n",
      "315 221.59698486328125\n",
      "316 221.5359344482422\n",
      "317 221.4749755859375\n",
      "318 221.41444396972656\n",
      "319 221.354248046875\n",
      "320 221.2944793701172\n",
      "321 221.2346954345703\n",
      "322 221.17529296875\n",
      "323 221.11624145507812\n",
      "324 221.05746459960938\n",
      "325 220.99899291992188\n",
      "326 220.94088745117188\n",
      "327 220.88294982910156\n",
      "328 220.8253173828125\n",
      "329 220.76805114746094\n",
      "330 220.7109375\n",
      "331 220.65426635742188\n",
      "332 220.5979461669922\n",
      "333 220.541748046875\n",
      "334 220.48590087890625\n",
      "335 220.43023681640625\n",
      "336 220.375\n",
      "337 220.31971740722656\n",
      "338 220.26470947265625\n",
      "339 220.21006774902344\n",
      "340 220.1558380126953\n",
      "341 220.1015625\n",
      "342 220.0476531982422\n",
      "343 219.99404907226562\n",
      "344 219.94064331054688\n",
      "345 219.8875274658203\n",
      "346 219.83460998535156\n",
      "347 219.78196716308594\n",
      "348 219.72938537597656\n",
      "349 219.67727661132812\n",
      "350 219.62525939941406\n",
      "351 219.57366943359375\n",
      "352 219.52200317382812\n",
      "353 219.47067260742188\n",
      "354 219.41946411132812\n",
      "355 219.3685302734375\n",
      "356 219.3177032470703\n",
      "357 219.26718139648438\n",
      "358 219.21678161621094\n",
      "359 219.1668243408203\n",
      "360 219.11692810058594\n",
      "361 219.0671844482422\n",
      "362 219.01763916015625\n",
      "363 218.96826171875\n",
      "364 218.9192352294922\n",
      "365 218.87025451660156\n",
      "366 218.8214569091797\n",
      "367 218.77279663085938\n",
      "368 218.7244873046875\n",
      "369 218.67633056640625\n",
      "370 218.6284637451172\n",
      "371 218.58058166503906\n",
      "372 218.53321838378906\n",
      "373 218.4856719970703\n",
      "374 218.43838500976562\n",
      "375 218.3912811279297\n",
      "376 218.34445190429688\n",
      "377 218.2977294921875\n",
      "378 218.25112915039062\n",
      "379 218.20465087890625\n",
      "380 218.15850830078125\n",
      "381 218.1123809814453\n",
      "382 218.06654357910156\n",
      "383 218.02066040039062\n",
      "384 217.9750518798828\n",
      "385 217.92958068847656\n",
      "386 217.88427734375\n",
      "387 217.83908081054688\n",
      "388 217.7940216064453\n",
      "389 217.74928283691406\n",
      "390 217.7045135498047\n",
      "391 217.65994262695312\n",
      "392 217.6156768798828\n",
      "393 217.5712127685547\n",
      "394 217.5271759033203\n",
      "395 217.48316955566406\n",
      "396 217.43939208984375\n",
      "397 217.3956756591797\n",
      "398 217.3521270751953\n",
      "399 217.30865478515625\n",
      "400 217.26556396484375\n",
      "401 217.22250366210938\n",
      "402 217.17958068847656\n",
      "403 217.13674926757812\n",
      "404 217.0941925048828\n",
      "405 217.05160522460938\n",
      "406 217.0091094970703\n",
      "407 216.9667205810547\n",
      "408 216.92465209960938\n",
      "409 216.8826141357422\n",
      "410 216.8406982421875\n",
      "411 216.79901123046875\n",
      "412 216.7573699951172\n",
      "413 216.71588134765625\n",
      "414 216.6746063232422\n",
      "415 216.63319396972656\n",
      "416 216.59217834472656\n",
      "417 216.55113220214844\n",
      "418 216.51019287109375\n",
      "419 216.46945190429688\n",
      "420 216.42884826660156\n",
      "421 216.3883514404297\n",
      "422 216.34793090820312\n",
      "423 216.3075408935547\n",
      "424 216.26730346679688\n",
      "425 216.22727966308594\n"
     ]
    },
    {
     "name": "stdout",
     "output_type": "stream",
     "text": [
      "426 216.18728637695312\n",
      "427 216.14727783203125\n",
      "428 216.10755920410156\n",
      "429 216.06793212890625\n",
      "430 216.0282440185547\n",
      "431 215.9888916015625\n",
      "432 215.9495086669922\n",
      "433 215.91018676757812\n",
      "434 215.8712158203125\n",
      "435 215.83204650878906\n",
      "436 215.79319763183594\n",
      "437 215.75411987304688\n",
      "438 215.71560668945312\n",
      "439 215.67678833007812\n",
      "440 215.63824462890625\n",
      "441 215.59967041015625\n",
      "442 215.5611572265625\n",
      "443 215.52279663085938\n",
      "444 215.48446655273438\n",
      "445 215.44630432128906\n",
      "446 215.4080810546875\n",
      "447 215.3701171875\n",
      "448 215.33218383789062\n",
      "449 215.2942352294922\n",
      "450 215.2565460205078\n",
      "451 215.21881103515625\n",
      "452 215.18112182617188\n",
      "453 215.14366149902344\n",
      "454 215.10626220703125\n",
      "455 215.06875610351562\n",
      "456 215.03160095214844\n",
      "457 214.99435424804688\n",
      "458 214.95738220214844\n",
      "459 214.92037963867188\n",
      "460 214.88360595703125\n",
      "461 214.84683227539062\n",
      "462 214.8101348876953\n",
      "463 214.77352905273438\n",
      "464 214.7371063232422\n",
      "465 214.70066833496094\n",
      "466 214.66419982910156\n",
      "467 214.6279296875\n",
      "468 214.591552734375\n",
      "469 214.55548095703125\n",
      "470 214.51930236816406\n",
      "471 214.4833984375\n",
      "472 214.44757080078125\n",
      "473 214.41172790527344\n",
      "474 214.37588500976562\n",
      "475 214.34002685546875\n",
      "476 214.3043670654297\n",
      "477 214.26856994628906\n",
      "478 214.2328643798828\n",
      "479 214.1973876953125\n",
      "480 214.16188049316406\n",
      "481 214.12640380859375\n",
      "482 214.0911407470703\n",
      "483 214.0557098388672\n",
      "484 214.02044677734375\n",
      "485 213.9853057861328\n",
      "486 213.95034790039062\n",
      "487 213.91514587402344\n",
      "488 213.88034057617188\n",
      "489 213.845458984375\n",
      "490 213.8106231689453\n",
      "491 213.77586364746094\n",
      "492 213.7411346435547\n",
      "493 213.70664978027344\n",
      "494 213.6719207763672\n",
      "495 213.63751220703125\n",
      "496 213.6032257080078\n",
      "497 213.56883239746094\n",
      "498 213.53469848632812\n",
      "499 213.50042724609375\n"
     ]
    }
   ],
   "source": [
    "# пример взят из официального туториала: \n",
    "# https://pytorch.org/tutorials/beginner/pytorch_with_examples.html\n",
    "\n",
    "# N - размер батча (batch_size, нужно для метода оптимизации); \n",
    "# D_in - размерность входа (количество признаков у объекта);\n",
    "# H - размерность скрытых слоёв; \n",
    "# D_out - размерность выходного слоя (суть - количество классов)\n",
    "N, D_in, H, D_out = 64, 2, 100, 3\n",
    "\n",
    "# Use the nn package to define our model and loss function.\n",
    "two_layer_net = torch.nn.Sequential(\n",
    "    torch.nn.Linear(D_in, H),\n",
    "    torch.nn.ReLU(),\n",
    "    torch.nn.Linear(H, D_out),\n",
    ")\n",
    "\n",
    "loss_fn = torch.nn.CrossEntropyLoss(size_average=False)\n",
    "\n",
    "learning_rate = 1e-4\n",
    "optimizer = torch.optim.SGD(two_layer_net.parameters(), lr=learning_rate)\n",
    "for t in range(500):\n",
    "    # forward\n",
    "    y_pred = two_layer_net(X)\n",
    "\n",
    "    # loss\n",
    "    loss = loss_fn(y_pred, y)\n",
    "    print('{} {}'.format(t, loss.data))\n",
    "\n",
    "    # ЗАНУЛЯЕМ!\n",
    "    optimizer.zero_grad()\n",
    "\n",
    "    # backward\n",
    "    loss.backward()\n",
    "\n",
    "    # ОБНОВЛЯЕМ! \n",
    "    optimizer.step()"
   ]
  },
  {
   "cell_type": "markdown",
   "metadata": {
    "colab_type": "text",
    "id": "zTQiN0bcYJd6"
   },
   "source": [
    "**Обратите внимание:** несмотря на то, что это задача 3-х классовой классификации и столбец $y$ нужно по-хорошему кодировать OneHotEncoding'ом, мы подали просто столбец из 0, 1 и 2 и всё отработало. Вывод - PyTorch сам делает OneHot в таком случае."
   ]
  },
  {
   "cell_type": "markdown",
   "metadata": {
    "colab_type": "text",
    "id": "apsWWq17YJd8"
   },
   "source": [
    "Проверим, насколько хороша наша сеть из 100 нейронов:"
   ]
  },
  {
   "cell_type": "code",
   "execution_count": 6,
   "metadata": {
    "colab": {},
    "colab_type": "code",
    "id": "X0ICB6Z-YJd-"
   },
   "outputs": [],
   "source": [
    "# Обратно в Numpy для отрисовки\n",
    "X = X.data.numpy()\n",
    "y = y.data.numpy()"
   ]
  },
  {
   "cell_type": "code",
   "execution_count": 7,
   "metadata": {
    "colab": {},
    "colab_type": "code",
    "id": "JvjfvgbPYJeB",
    "outputId": "cf5545ff-3315-45c9-c674-af44f63a346b"
   },
   "outputs": [
    {
     "data": {
      "image/png": "[encoded data removed]",
      "text/plain": [
       "<Figure size 720x576 with 1 Axes>"
      ]
     },
     "metadata": {
      "needs_background": "light"
     },
     "output_type": "display_data"
    }
   ],
   "source": [
    "# Отрисовочная магия, снова взято из:\n",
    "# http://cs231n.github.io/neural-networks-case-study/#linear\n",
    "\n",
    "h = 0.02\n",
    "x_min, x_max = X[:, 0].min() - 1, X[:, 0].max() + 1\n",
    "y_min, y_max = X[:, 1].min() - 1, X[:, 1].max() + 1\n",
    "\n",
    "xx, yy = np.meshgrid(np.arange(x_min, x_max, h),\n",
    "                     np.arange(y_min, y_max, h))\n",
    "grid_tensor = torch.FloatTensor(np.c_[xx.ravel(), yy.ravel()])\n",
    "\n",
    "Z = two_layer_net(torch.autograd.Variable(grid_tensor))\n",
    "Z = Z.data.numpy()\n",
    "Z = np.argmax(Z, axis=1)\n",
    "Z = Z.reshape(xx.shape)\n",
    "\n",
    "plt.figure(figsize=(10, 8))\n",
    "\n",
    "plt.contourf(xx, yy, Z, cmap=plt.cm.rainbow, alpha=0.3)\n",
    "plt.scatter(X[:, 0], X[:, 1], c=y, s=40, cmap=plt.cm.rainbow)\n",
    "\n",
    "plt.xlim(xx.min(), xx.max())\n",
    "plt.ylim(yy.min(), yy.max())\n",
    "\n",
    "plt.title('Игрушка дьявола', fontsize=15)\n",
    "plt.xlabel('$x$', fontsize=14)\n",
    "plt.ylabel('$y$', fontsize=14)\n",
    "plt.show();"
   ]
  },
  {
   "cell_type": "markdown",
   "metadata": {
    "colab_type": "text",
    "id": "I-LuUcmNYJeE"
   },
   "source": [
    "Качество не очень. Как же так, ведь мы использовали 100 нейронов? Разве их мало?"
   ]
  },
  {
   "cell_type": "markdown",
   "metadata": {
    "colab_type": "text",
    "id": "CUh5va_PYJeF"
   },
   "source": [
    "---"
   ]
  },
  {
   "cell_type": "markdown",
   "metadata": {
    "colab_type": "text",
    "id": "34q5qIBvYJeG"
   },
   "source": [
    "### Задача 2"
   ]
  },
  {
   "cell_type": "markdown",
   "metadata": {
    "colab_type": "text",
    "id": "G2wNgoh5YJeG"
   },
   "source": [
    "Улучшите сеть (помните про вещи, которые можно менять (см. Компоненты нейросети)). Экспериментируйте, в этом **вся суть deep learning** (и в том, чтобы рано или поздно сетка научилась экспериментировать за Вас :)"
   ]
  },
  {
   "cell_type": "code",
   "execution_count": 21,
   "metadata": {
    "colab": {},
    "colab_type": "code",
    "id": "ZYzvOiPgYJeH"
   },
   "outputs": [],
   "source": [
    "# Ваш код здесь (можно (и нужно) создавать больше ячеек)\n",
    "# код для генерации взят из Стэнфордсокго курса:\n",
    "# http://cs231n.github.io/neural-networks-case-study/#linear\n",
    "\n",
    "N = 100\n",
    "D = 2\n",
    "K = 3\n",
    "X = np.zeros((N * K, D))\n",
    "y = np.zeros(N * K, dtype='uint8')\n",
    "\n",
    "for j in range(K):\n",
    "    ix = range(N * j,N * (j + 1))\n",
    "    r = np.linspace(0.0, 1, N)\n",
    "    t = np.linspace(j * 4, (j + 1) * 4,N) + np.random.randn(N) * 0.2 # theta\n",
    "    X[ix] = np.c_[r * np.sin(t), r * np.cos(t)]\n",
    "    y[ix] = j\n",
    "\n",
    "X = torch.autograd.Variable(torch.FloatTensor(X))\n",
    "y = torch.autograd.Variable(torch.LongTensor(y.astype(np.int64)))"
   ]
  },
  {
   "cell_type": "code",
   "execution_count": 22,
   "metadata": {},
   "outputs": [
    {
     "name": "stderr",
     "output_type": "stream",
     "text": [
      "C:\\Users\\yushanov\\Anaconda3\\lib\\site-packages\\torch\\nn\\_reduction.py:49: UserWarning: size_average and reduce args will be deprecated, please use reduction='sum' instead.\n",
      "  warnings.warn(warning.format(ret))\n"
     ]
    },
    {
     "name": "stdout",
     "output_type": "stream",
     "text": [
      "0 311.5790710449219\n",
      "1 298.66607666015625\n",
      "2 288.50958251953125\n",
      "3 279.99114990234375\n",
      "4 272.781005859375\n",
      "5 266.6283874511719\n",
      "6 261.3393859863281\n",
      "7 256.760986328125\n",
      "8 252.77432250976562\n",
      "9 249.28208923339844\n",
      "10 246.2030029296875\n",
      "11 243.4738006591797\n",
      "12 241.04258728027344\n",
      "13 238.8656005859375\n",
      "14 236.907958984375\n",
      "15 235.1402130126953\n",
      "16 233.53594970703125\n",
      "17 232.0741729736328\n",
      "18 230.73712158203125\n",
      "19 229.50856018066406\n",
      "20 228.37478637695312\n",
      "21 227.32870483398438\n",
      "22 226.35740661621094\n",
      "23 225.45086669921875\n",
      "24 224.601806640625\n",
      "25 223.80450439453125\n",
      "26 223.0541229248047\n",
      "27 222.3446502685547\n",
      "28 221.67181396484375\n",
      "29 221.03164672851562\n",
      "30 220.4209442138672\n",
      "31 219.83770751953125\n",
      "32 219.2803497314453\n",
      "33 218.74508666992188\n",
      "34 218.2288360595703\n",
      "35 217.7308807373047\n",
      "36 217.25152587890625\n",
      "37 216.78750610351562\n",
      "38 216.33680725097656\n",
      "39 215.89907836914062\n",
      "40 215.4724578857422\n",
      "41 215.05686950683594\n",
      "42 214.6493682861328\n",
      "43 214.2512664794922\n",
      "44 213.86196899414062\n",
      "45 213.47950744628906\n",
      "46 213.10440063476562\n",
      "47 212.73602294921875\n",
      "48 212.37278747558594\n",
      "49 212.013427734375\n",
      "50 211.65782165527344\n",
      "51 211.3064422607422\n",
      "52 210.9590301513672\n",
      "53 210.61412048339844\n",
      "54 210.27134704589844\n",
      "55 209.93080139160156\n",
      "56 209.59237670898438\n",
      "57 209.2551727294922\n",
      "58 208.9185791015625\n",
      "59 208.58343505859375\n",
      "60 208.2490692138672\n",
      "61 207.9158935546875\n",
      "62 207.58363342285156\n",
      "63 207.2521514892578\n",
      "64 206.92005920410156\n",
      "65 206.58876037597656\n",
      "66 206.25732421875\n",
      "67 205.92654418945312\n",
      "68 205.59642028808594\n",
      "69 205.2666778564453\n",
      "70 204.93666076660156\n",
      "71 204.6061553955078\n",
      "72 204.27513122558594\n",
      "73 203.94357299804688\n",
      "74 203.61105346679688\n",
      "75 203.27781677246094\n",
      "76 202.943603515625\n",
      "77 202.60777282714844\n",
      "78 202.27224731445312\n",
      "79 201.93667602539062\n",
      "80 201.5999755859375\n",
      "81 201.26141357421875\n",
      "82 200.92149353027344\n",
      "83 200.58099365234375\n",
      "84 200.23892211914062\n",
      "85 199.8958282470703\n",
      "86 199.5514678955078\n",
      "87 199.206298828125\n",
      "88 198.8595428466797\n",
      "89 198.51161193847656\n",
      "90 198.16259765625\n",
      "91 197.8123016357422\n",
      "92 197.4606170654297\n",
      "93 197.10903930664062\n",
      "94 196.75645446777344\n",
      "95 196.40167236328125\n",
      "96 196.04518127441406\n",
      "97 195.6876983642578\n",
      "98 195.3295440673828\n",
      "99 194.9695587158203\n",
      "100 194.60824584960938\n",
      "101 194.24671936035156\n",
      "102 193.88429260253906\n",
      "103 193.52088928222656\n",
      "104 193.15591430664062\n",
      "105 192.78976440429688\n",
      "106 192.4225311279297\n",
      "107 192.0540313720703\n",
      "108 191.68429565429688\n",
      "109 191.31369018554688\n",
      "110 190.94252014160156\n",
      "111 190.57061767578125\n",
      "112 190.19752502441406\n",
      "113 189.82444763183594\n",
      "114 189.44993591308594\n",
      "115 189.07418823242188\n",
      "116 188.69825744628906\n",
      "117 188.32089233398438\n",
      "118 187.94338989257812\n",
      "119 187.5653076171875\n",
      "120 187.18565368652344\n",
      "121 186.804931640625\n",
      "122 186.4234619140625\n",
      "123 186.0420379638672\n",
      "124 185.66004943847656\n",
      "125 185.27804565429688\n",
      "126 184.89669799804688\n",
      "127 184.51516723632812\n",
      "128 184.1328125\n",
      "129 183.75051879882812\n",
      "130 183.36737060546875\n",
      "131 182.98377990722656\n",
      "132 182.60055541992188\n",
      "133 182.2169647216797\n",
      "134 181.8316192626953\n",
      "135 181.44570922851562\n",
      "136 181.05934143066406\n",
      "137 180.67193603515625\n",
      "138 180.28408813476562\n",
      "139 179.89805603027344\n",
      "140 179.5148468017578\n",
      "141 179.1304168701172\n",
      "142 178.74615478515625\n",
      "143 178.36192321777344\n",
      "144 177.9790802001953\n",
      "145 177.5956268310547\n",
      "146 177.2133331298828\n",
      "147 176.83213806152344\n",
      "148 176.450927734375\n",
      "149 176.06939697265625\n",
      "150 175.68756103515625\n",
      "151 175.30496215820312\n",
      "152 174.9225616455078\n",
      "153 174.54071044921875\n",
      "154 174.15853881835938\n",
      "155 173.77650451660156\n",
      "156 173.39385986328125\n",
      "157 173.01092529296875\n",
      "158 172.6278839111328\n",
      "159 172.2445068359375\n",
      "160 171.86105346679688\n",
      "161 171.47796630859375\n",
      "162 171.09507751464844\n",
      "163 170.712646484375\n",
      "164 170.3304443359375\n",
      "165 169.94833374023438\n",
      "166 169.56600952148438\n",
      "167 169.1832733154297\n",
      "168 168.79959106445312\n",
      "169 168.4166259765625\n",
      "170 168.03350830078125\n",
      "171 167.65069580078125\n",
      "172 167.26837158203125\n",
      "173 166.8864288330078\n",
      "174 166.5060577392578\n",
      "175 166.12596130371094\n",
      "176 165.7461395263672\n",
      "177 165.36770629882812\n",
      "178 164.98863220214844\n",
      "179 164.60939025878906\n",
      "180 164.23094177246094\n",
      "181 163.85279846191406\n",
      "182 163.4754180908203\n",
      "183 163.09828186035156\n",
      "184 162.721923828125\n",
      "185 162.34564208984375\n",
      "186 161.9694061279297\n",
      "187 161.59268188476562\n",
      "188 161.2161865234375\n",
      "189 160.8394775390625\n",
      "190 160.46315002441406\n",
      "191 160.0876922607422\n",
      "192 159.71322631835938\n",
      "193 159.3400421142578\n",
      "194 158.9676055908203\n",
      "195 158.596435546875\n",
      "196 158.2258758544922\n",
      "197 157.85601806640625\n",
      "198 157.48690795898438\n",
      "199 157.11831665039062\n",
      "200 156.7504119873047\n",
      "201 156.3838653564453\n",
      "202 156.01820373535156\n",
      "203 155.65286254882812\n",
      "204 155.28904724121094\n",
      "205 154.92604064941406\n",
      "206 154.56375122070312\n",
      "207 154.20196533203125\n",
      "208 153.84085083007812\n",
      "209 153.480712890625\n",
      "210 153.12120056152344\n",
      "211 152.7630157470703\n",
      "212 152.4062957763672\n",
      "213 152.05056762695312\n",
      "214 151.6958465576172\n",
      "215 151.3418426513672\n",
      "216 150.9888916015625\n",
      "217 150.63720703125\n",
      "218 150.2863006591797\n",
      "219 149.9363250732422\n",
      "220 149.5870361328125\n",
      "221 149.23880004882812\n",
      "222 148.89138793945312\n",
      "223 148.5448455810547\n",
      "224 148.19906616210938\n",
      "225 147.85415649414062\n",
      "226 147.5100860595703\n",
      "227 147.16685485839844\n",
      "228 146.82460021972656\n",
      "229 146.48312377929688\n",
      "230 146.14268493652344\n",
      "231 145.80349731445312\n",
      "232 145.465087890625\n",
      "233 145.12767028808594\n",
      "234 144.79078674316406\n",
      "235 144.45535278320312\n",
      "236 144.12100219726562\n",
      "237 143.78720092773438\n",
      "238 143.45419311523438\n",
      "239 143.1219940185547\n",
      "240 142.79055786132812\n",
      "241 142.46041870117188\n",
      "242 142.1310272216797\n",
      "243 141.80258178710938\n",
      "244 141.47512817382812\n",
      "245 141.1486358642578\n",
      "246 140.8219451904297\n",
      "247 140.49632263183594\n",
      "248 140.17169189453125\n",
      "249 139.8480224609375\n",
      "250 139.5255584716797\n",
      "251 139.20419311523438\n",
      "252 138.88365173339844\n",
      "253 138.5640869140625\n",
      "254 138.2452850341797\n",
      "255 137.92698669433594\n",
      "256 137.60963439941406\n",
      "257 137.29319763183594\n",
      "258 136.97805786132812\n",
      "259 136.6637725830078\n",
      "260 136.35133361816406\n",
      "261 136.04010009765625\n",
      "262 135.73025512695312\n",
      "263 135.4212646484375\n",
      "264 135.11346435546875\n",
      "265 134.8070068359375\n",
      "266 134.5015869140625\n",
      "267 134.1974639892578\n",
      "268 133.89431762695312\n",
      "269 133.59214782714844\n",
      "270 133.29119873046875\n",
      "271 132.99154663085938\n",
      "272 132.69313049316406\n",
      "273 132.3957061767578\n",
      "274 132.09930419921875\n",
      "275 131.80372619628906\n",
      "276 131.50900268554688\n",
      "277 131.21560668945312\n",
      "278 130.92369079589844\n",
      "279 130.6329803466797\n",
      "280 130.34361267089844\n",
      "281 130.05569458007812\n",
      "282 129.76902770996094\n",
      "283 129.48353576660156\n",
      "284 129.1988525390625\n",
      "285 128.9153289794922\n",
      "286 128.6331024169922\n",
      "287 128.3520050048828\n",
      "288 128.07205200195312\n",
      "289 127.79325866699219\n",
      "290 127.51544952392578\n",
      "291 127.23890686035156\n",
      "292 126.9632797241211\n",
      "293 126.688720703125\n",
      "294 126.41527557373047\n",
      "295 126.14300537109375\n",
      "296 125.8716049194336\n",
      "297 125.60131072998047\n",
      "298 125.33210754394531\n",
      "299 125.06453704833984\n",
      "300 124.79826354980469\n",
      "301 124.53313446044922\n",
      "302 124.2691421508789\n",
      "303 124.00635528564453\n",
      "304 123.74470520019531\n",
      "305 123.48417663574219\n",
      "306 123.22478485107422\n",
      "307 122.96652221679688\n",
      "308 122.70954132080078\n",
      "309 122.45376586914062\n",
      "310 122.19908905029297\n",
      "311 121.9454345703125\n",
      "312 121.693115234375\n",
      "313 121.44195556640625\n",
      "314 121.19192504882812\n",
      "315 120.943115234375\n",
      "316 120.69501495361328\n",
      "317 120.44790649414062\n",
      "318 120.20195007324219\n",
      "319 119.95658111572266\n",
      "320 119.71231842041016\n",
      "321 119.4692153930664\n",
      "322 119.22720336914062\n",
      "323 118.98583984375\n",
      "324 118.7455062866211\n",
      "325 118.50619506835938\n",
      "326 118.26786804199219\n",
      "327 118.03071594238281\n",
      "328 117.79497528076172\n",
      "329 117.56062316894531\n",
      "330 117.32732391357422\n",
      "331 117.0950698852539\n",
      "332 116.86375427246094\n",
      "333 116.63323211669922\n",
      "334 116.40385437011719\n",
      "335 116.17539978027344\n",
      "336 115.9477767944336\n",
      "337 115.72099304199219\n",
      "338 115.49517059326172\n",
      "339 115.2701416015625\n",
      "340 115.04613494873047\n",
      "341 114.82295227050781\n",
      "342 114.6007080078125\n",
      "343 114.37952423095703\n",
      "344 114.15928649902344\n",
      "345 113.93997955322266\n",
      "346 113.721923828125\n",
      "347 113.50469207763672\n",
      "348 113.28846740722656\n",
      "349 113.07332611083984\n",
      "350 112.8588638305664\n",
      "351 112.64551544189453\n",
      "352 112.43325805664062\n",
      "353 112.2221908569336\n",
      "354 112.01187133789062\n",
      "355 111.80281829833984\n",
      "356 111.5944595336914\n",
      "357 111.38664245605469\n",
      "358 111.17977142333984\n",
      "359 110.97378540039062\n",
      "360 110.7687759399414\n",
      "361 110.5645751953125\n",
      "362 110.36111450195312\n",
      "363 110.15850830078125\n",
      "364 109.95689392089844\n",
      "365 109.75598907470703\n",
      "366 109.555908203125\n",
      "367 109.35671997070312\n",
      "368 109.15840148925781\n",
      "369 108.96029663085938\n",
      "370 108.76263427734375\n",
      "371 108.56584167480469\n",
      "372 108.3697280883789\n",
      "373 108.17439270019531\n",
      "374 107.97978973388672\n",
      "375 107.78602600097656\n",
      "376 107.5931625366211\n",
      "377 107.40113067626953\n",
      "378 107.20989227294922\n",
      "379 107.01937103271484\n",
      "380 106.82958984375\n",
      "381 106.64051818847656\n",
      "382 106.45216369628906\n",
      "383 106.26444244384766\n",
      "384 106.07744598388672\n",
      "385 105.89128875732422\n",
      "386 105.70581817626953\n",
      "387 105.52120971679688\n",
      "388 105.33718872070312\n",
      "389 105.1536865234375\n",
      "390 104.97034454345703\n",
      "391 104.7880630493164\n",
      "392 104.60624694824219\n",
      "393 104.42525482177734\n",
      "394 104.2450942993164\n",
      "395 104.0657730102539\n",
      "396 103.88707733154297\n",
      "397 103.70914459228516\n",
      "398 103.53190612792969\n",
      "399 103.35566711425781\n",
      "400 103.18002319335938\n",
      "401 103.0050277709961\n",
      "402 102.83062744140625\n",
      "403 102.65702056884766\n",
      "404 102.48400115966797\n",
      "405 102.31172943115234\n",
      "406 102.1399917602539\n",
      "407 101.96887969970703\n",
      "408 101.79833984375\n",
      "409 101.62857818603516\n",
      "410 101.45932006835938\n",
      "411 101.29046630859375\n",
      "412 101.12213134765625\n",
      "413 100.9544448852539\n",
      "414 100.78736877441406\n",
      "415 100.62095642089844\n",
      "416 100.45523071289062\n",
      "417 100.2900390625\n",
      "418 100.12567138671875\n",
      "419 99.96170806884766\n",
      "420 99.79840087890625\n",
      "421 99.63567352294922\n",
      "422 99.47364044189453\n",
      "423 99.31208038330078\n",
      "424 99.15129852294922\n",
      "425 98.99095153808594\n"
     ]
    },
    {
     "name": "stdout",
     "output_type": "stream",
     "text": [
      "426 98.8313217163086\n",
      "427 98.67218017578125\n",
      "428 98.51377868652344\n",
      "429 98.35594177246094\n",
      "430 98.19868469238281\n",
      "431 98.04206848144531\n",
      "432 97.8861312866211\n",
      "433 97.73126983642578\n",
      "434 97.5768051147461\n",
      "435 97.4230728149414\n",
      "436 97.26990509033203\n",
      "437 97.1175765991211\n",
      "438 96.9658203125\n",
      "439 96.8145751953125\n",
      "440 96.6638412475586\n",
      "441 96.513671875\n",
      "442 96.36424255371094\n",
      "443 96.21524047851562\n",
      "444 96.06684875488281\n",
      "445 95.91897583007812\n",
      "446 95.77127838134766\n",
      "447 95.62413024902344\n",
      "448 95.47755432128906\n",
      "449 95.33151245117188\n",
      "450 95.18602752685547\n",
      "451 95.04113006591797\n",
      "452 94.89657592773438\n",
      "453 94.75259399414062\n",
      "454 94.60907745361328\n",
      "455 94.46613311767578\n",
      "456 94.32389068603516\n",
      "457 94.1822738647461\n",
      "458 94.04102325439453\n",
      "459 93.90045928955078\n",
      "460 93.76022338867188\n",
      "461 93.62007904052734\n",
      "462 93.48014068603516\n",
      "463 93.34085083007812\n",
      "464 93.20201110839844\n",
      "465 93.06367492675781\n",
      "466 92.92578887939453\n",
      "467 92.78886413574219\n",
      "468 92.6526107788086\n",
      "469 92.51673126220703\n",
      "470 92.38137817382812\n",
      "471 92.24652099609375\n",
      "472 92.11229705810547\n",
      "473 91.97843170166016\n",
      "474 91.84500122070312\n",
      "475 91.71207427978516\n",
      "476 91.57958984375\n",
      "477 91.44745635986328\n",
      "478 91.31583404541016\n",
      "479 91.1847915649414\n",
      "480 91.0540542602539\n",
      "481 90.9236831665039\n",
      "482 90.79381561279297\n",
      "483 90.66432189941406\n",
      "484 90.53532409667969\n",
      "485 90.40668487548828\n",
      "486 90.27864837646484\n",
      "487 90.15101623535156\n",
      "488 90.0237808227539\n",
      "489 89.89704132080078\n",
      "490 89.77069854736328\n",
      "491 89.64488983154297\n",
      "492 89.51932525634766\n",
      "493 89.39421081542969\n",
      "494 89.26957702636719\n",
      "495 89.14530944824219\n",
      "496 89.02133178710938\n",
      "497 88.8978500366211\n",
      "498 88.77472686767578\n",
      "499 88.65204620361328\n"
     ]
    }
   ],
   "source": [
    "N, D_in, H, D_out = 64, 2, 100, 3\n",
    "\n",
    "# Use the nn package to define our model and loss function.\n",
    "two_layer_net = torch.nn.Sequential(\n",
    "    torch.nn.Linear(D_in, H),\n",
    "    torch.nn.LeakyReLU(),\n",
    "    torch.nn.Linear(H, D_out),\n",
    ")\n",
    "\n",
    "loss_fn = torch.nn.CrossEntropyLoss(size_average=False)\n",
    "\n",
    "learning_rate = 1e-3\n",
    "optimizer = torch.optim.SGD(two_layer_net.parameters(), lr=learning_rate)\n",
    "for t in range(500):\n",
    "    y_pred = two_layer_net(X)\n",
    "    loss = loss_fn(y_pred, y)\n",
    "    print('{} {}'.format(t, loss.data))\n",
    "    optimizer.zero_grad()\n",
    "    loss.backward()\n",
    "    optimizer.step()"
   ]
  },
  {
   "cell_type": "code",
   "execution_count": 23,
   "metadata": {},
   "outputs": [
    {
     "data": {
      "image/png": "[encoded data removed]",
      "text/plain": [
       "<Figure size 720x576 with 1 Axes>"
      ]
     },
     "metadata": {
      "needs_background": "light"
     },
     "output_type": "display_data"
    }
   ],
   "source": [
    "# Обратно в Numpy для отрисовки\n",
    "X = X.data.numpy()\n",
    "y = y.data.numpy()\n",
    "\n",
    "# Отрисовочная магия, снова взято из:\n",
    "# http://cs231n.github.io/neural-networks-case-study/#linear\n",
    "\n",
    "h = 0.02\n",
    "x_min, x_max = X[:, 0].min() - 1, X[:, 0].max() + 1\n",
    "y_min, y_max = X[:, 1].min() - 1, X[:, 1].max() + 1\n",
    "\n",
    "xx, yy = np.meshgrid(np.arange(x_min, x_max, h),\n",
    "                     np.arange(y_min, y_max, h))\n",
    "grid_tensor = torch.FloatTensor(np.c_[xx.ravel(), yy.ravel()])\n",
    "\n",
    "Z = two_layer_net(torch.autograd.Variable(grid_tensor))\n",
    "Z = Z.data.numpy()\n",
    "Z = np.argmax(Z, axis=1)\n",
    "Z = Z.reshape(xx.shape)\n",
    "\n",
    "plt.figure(figsize=(10, 8))\n",
    "\n",
    "plt.contourf(xx, yy, Z, cmap=plt.cm.rainbow, alpha=0.3)\n",
    "plt.scatter(X[:, 0], X[:, 1], c=y, s=40, cmap=plt.cm.rainbow)\n",
    "\n",
    "plt.xlim(xx.min(), xx.max())\n",
    "plt.ylim(yy.min(), yy.max())\n",
    "\n",
    "plt.title('Игрушка дьявола', fontsize=15)\n",
    "plt.xlabel('$x$', fontsize=14)\n",
    "plt.ylabel('$y$', fontsize=14)\n",
    "plt.show();"
   ]
  },
  {
   "cell_type": "code",
   "execution_count": null,
   "metadata": {},
   "outputs": [],
   "source": []
  },
  {
   "cell_type": "code",
   "execution_count": null,
   "metadata": {},
   "outputs": [],
   "source": []
  },
  {
   "cell_type": "code",
   "execution_count": null,
   "metadata": {},
   "outputs": [],
   "source": []
  },
  {
   "cell_type": "markdown",
   "metadata": {
    "colab_type": "text",
    "id": "6N_9wfvPYJeK"
   },
   "source": [
    "---"
   ]
  },
  {
   "cell_type": "markdown",
   "metadata": {
    "colab_type": "text",
    "id": "H_thmQJOYJeK"
   },
   "source": [
    "<h3 style=\"text-align: center;\"><b>Полезные ссылки</b></h3>"
   ]
  },
  {
   "cell_type": "markdown",
   "metadata": {
    "colab_type": "text",
    "id": "RpSrLf9FYJeL"
   },
   "source": [
    "1). *Примеры написания нейросетей на PyTorch (офийиальные туториалы) (на английском): https://pytorch.org/tutorials/beginner/pytorch_with_examples.html#examples  \n",
    "https://pytorch.org/tutorials/beginner/blitz/cifar10_tutorial.html*\n",
    "\n",
    "2). ***Один из самых подробных и полных курсов по deep learning на данный момент - это курс Стэнфордского Университета (он вообще сейчас один из лидеров в области ИИ, его выпускники работают в Google, Facebook, Amazon, Microsoft, в стартапах в Кремниевой долине):  http://cs231n.github.io/***  \n",
    "\n",
    "3). Практически исчерпывающая информация по основам нейросетей (из cs231n) (на английском):  \n",
    "\n",
    "http://cs231n.github.io/neural-networks-1/,  \n",
    "http://cs231n.github.io/neural-networks-2/,  \n",
    "http://cs231n.github.io/neural-networks-3/,  \n",
    "http://cs231n.github.io/neural-networks-case-study/#linear\n",
    "\n",
    "4). *Хорошие статьи по основам нейросетей (на английском):  http://neuralnetworksanddeeplearning.com/chap1.html*\n",
    "\n",
    "5). *Наглядная демонстрация того, как обучаются нейросети:  https://cs.stanford.edu/people/karpathy/convnetjs/*"
   ]
  },
  {
   "cell_type": "markdown",
   "metadata": {
    "colab_type": "text",
    "id": "1Qldb1U5YJeM"
   },
   "source": [
    "6). *Подробнее про backprop -- статья на Medium: https://medium.com/autonomous-agents/backpropagation-how-neural-networks-learn-complex-behaviors-9572ac161670*"
   ]
  },
  {
   "cell_type": "markdown",
   "metadata": {
    "colab_type": "text",
    "id": "g1HSslRhYJeN"
   },
   "source": [
    "7). *Статья из интернет по Backprop: http://page.mi.fu-berlin.de/rojas/neural/chapter/K7.pdf*"
   ]
  }
 ],
 "metadata": {
  "colab": {
   "collapsed_sections": [],
   "name": "[seminar]mlp_pytorch.ipynb",
   "provenance": [],
   "version": "0.3.2"
  },
  "kernelspec": {
   "display_name": "Python 3",
   "language": "python",
   "name": "python3"
  },
  "language_info": {
   "codemirror_mode": {
    "name": "ipython",
    "version": 3
   },
   "file_extension": ".py",
   "mimetype": "text/x-python",
   "name": "python",
   "nbconvert_exporter": "python",
   "pygments_lexer": "ipython3",
   "version": "3.7.0"
  }
 },
 "nbformat": 4,
 "nbformat_minor": 1
}
